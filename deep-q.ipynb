{
 "cells": [
  {
   "cell_type": "code",
   "execution_count": 4,
   "metadata": {
    "collapsed": true
   },
   "outputs": [],
   "source": [
    "import tensorflow as tf\n",
    "import gym\n",
    "import gym_simpleflappy\n",
    "\n",
    "import numpy as np"
   ]
  },
  {
   "cell_type": "markdown",
   "metadata": {},
   "source": [
    "Set up the environment\n",
    "--\n",
    "\n",
    "Use gym.make with an environment name to set up your environment."
   ]
  },
  {
   "cell_type": "code",
   "execution_count": 5,
   "metadata": {},
   "outputs": [
    {
     "name": "stdout",
     "output_type": "stream",
     "text": [
      "Box(4,)\nDiscrete(2)\n"
     ]
    }
   ],
   "source": [
    "env = gym.make(\"CartPole-v0\")\n",
    "\n",
    "# Observation and Action spaces:\n",
    "print(env.observation_space)\n",
    "print(env.action_space)"
   ]
  },
  {
   "cell_type": "markdown",
   "metadata": {},
   "source": [
    "Create the network\n",
    "--\n",
    "\n",
    "Set up a neural network to choose actions and predict Q values"
   ]
  },
  {
   "cell_type": "code",
   "execution_count": null,
   "metadata": {},
   "outputs": [],
   "source": [
    "class q_network_dense:\n",
    "    def __init__(self, state_size, action_size, hidden_layer_size, hidden_layer_count, name):\n",
    "        \n",
    "        with tf.variable_scope(name) as scope:\n",
    "            self.state_input = tf.placeholder(shape=[None, state_size], dtype=tf.float32)\n",
    "            \n",
    "            prev_layer = self.state_input\n",
    "            for i in range(hidden_layer_count):\n",
    "                prev_layer = tf.layers.dense(prev_layer, hidden_layer_size, activation=tf.nn.relu)\n",
    "            \n",
    "            self.output_layer = tf.layers.dense(prev_layer, action_size)\n"
   ]
  }
 ],
 "metadata": {
  "kernelspec": {
   "display_name": "Python 2",
   "language": "python",
   "name": "python2"
  },
  "language_info": {
   "codemirror_mode": {
    "name": "ipython",
    "version": 2
   },
   "file_extension": ".py",
   "mimetype": "text/x-python",
   "name": "python",
   "nbconvert_exporter": "python",
   "pygments_lexer": "ipython2",
   "version": "2.7.6"
  }
 },
 "nbformat": 4,
 "nbformat_minor": 0
}
