{
 "cells": [
  {
   "cell_type": "code",
   "execution_count": 1,
   "metadata": {
    "collapsed": true
   },
   "outputs": [],
   "source": [
    "import tensorflow as tf\n",
    "import numpy as np\n",
    "import matplotlib.pyplot as plt\n",
    "\n",
    "import os\n",
    "\n",
    "%matplotlib inline"
   ]
  },
  {
   "cell_type": "markdown",
   "metadata": {},
   "source": [
    "# Network Setup\n",
    "\n",
    "Set up the neural network and training operations"
   ]
  },
  {
   "cell_type": "code",
   "execution_count": 2,
   "metadata": {},
   "outputs": [],
   "source": [
    "class Conv_Net:\n",
    "    def __init__(self, image_height, image_width, channels, num_classes):\n",
    "        \n",
    "        self.input_layer = tf.placeholder(dtype=tf.float32, shape=[None, image_height, image_width, channels], name=\"inputs\")\n",
    "        print(self.input_layer.shape)\n",
    "        \n",
    "        conv_layer_1 = tf.layers.conv2d(self.input_layer, filters = 32, kernel_size=[5,5], padding=\"same\", activation=tf.nn.relu)\n",
    "        print(conv_layer_1.shape)\n",
    "        \n",
    "        pooling_layer_1 = tf.layers.max_pooling2d(conv_layer_1, pool_size=[2,2], strides=2)\n",
    "        print(pooling_layer_1.shape)\n",
    "        \n",
    "        conv_layer_2 = tf.layers.conv2d(pooling_layer_1, filters = 64, kernel_size=[5,5], padding=\"same\", activation=tf.nn.relu)\n",
    "        print(conv_layer_2.shape)\n",
    "        \n",
    "        pooling_layer_2 = tf.layers.max_pooling2d(conv_layer_2, pool_size=[2,2], strides = 2)\n",
    "        print(pooling_layer_2.shape)\n",
    "        \n",
    "        flattened_pooling = tf.layers.flatten(pooling_layer_2)\n",
    "        dense_layer = tf.layers.dense(flattened_pooling, 1024, activation=tf.nn.relu)\n",
    "        print(dense_layer.shape)\n",
    "        \n",
    "        dropout = tf.layers.dropout(dense_layer, rate=0.4, training=True)\n",
    "        print(dropout.shape)\n",
    "        \n",
    "        outputs = tf.layers.dense(dropout, num_classes)\n",
    "        print(outputs.shape)\n",
    "        \n",
    "        self.choice = tf.argmax(outputs, axis=1)\n",
    "        self.probability = tf.nn.softmax(outputs)\n",
    "        \n",
    "        self.labels = tf.placeholder(dtype=tf.float32, name=\"labels\")\n",
    "        \n",
    "        self.accuracy, self.accuracy_op = tf.metrics.accuracy(self.labels, self.choice)\n",
    "        \n",
    "        one_hot_labels = tf.one_hot(indices=tf.cast(self.labels, dtype=tf.int32), depth=10)\n",
    "        \n",
    "        self.loss = tf.losses.softmax_cross_entropy(onehot_labels=one_hot_labels, logits=outputs)\n",
    "        \n",
    "        optimizer = tf.train.GradientDescentOptimizer(learning_rate=1e-2)\n",
    "        self.train_operation = optimizer.minimize(loss=self.loss, global_step=tf.train.get_global_step())\n",
    "        "
   ]
  },
  {
   "cell_type": "markdown",
   "metadata": {},
   "source": [
    "# Load the data\n",
    "\n",
    "Load the mnist data into a Dataset object."
   ]
  },
  {
   "cell_type": "code",
   "execution_count": 3,
   "metadata": {},
   "outputs": [
    {
     "name": "stdout",
     "output_type": "stream",
     "text": [
      "Extracting MNIST-data\\train-images-idx3-ubyte.gz\n"
     ]
    },
    {
     "name": "stdout",
     "output_type": "stream",
     "text": [
      "Extracting MNIST-data\\train-labels-idx1-ubyte.gz\nExtracting MNIST-data\\t10k-images-idx3-ubyte.gz\nExtracting MNIST-data\\t10k-labels-idx1-ubyte.gz\n"
     ]
    },
    {
     "name": "stdout",
     "output_type": "stream",
     "text": [
      "(55000, 784)\n(55000, 28, 28, 1)\n"
     ]
    }
   ],
   "source": [
    "image_height = 28\n",
    "image_width = 28\n",
    "\n",
    "color_channels = 1\n",
    "\n",
    "model_name = \"mnist\"\n",
    "\n",
    "mnist = tf.contrib.learn.datasets.load_dataset(\"mnist\")\n",
    "\n",
    "train_data = mnist.train.images\n",
    "train_labels = np.asarray(mnist.train.labels, dtype=np.int32)\n",
    "\n",
    "eval_data = mnist.test.images\n",
    "eval_labels = np.asarray(mnist.test.labels, dtype=np.int32)\n",
    "\n",
    "print(train_data.shape)\n",
    "\n",
    "reshaped_data = np.reshape(train_data, [-1, image_height, image_width, color_channels])\n",
    "\n",
    "print(reshaped_data.shape)\n",
    "\n",
    "reshaped_eval = np.reshape(eval_data, [-1, image_height, image_width, color_channels])\n",
    "\n",
    " "
   ]
  },
  {
   "cell_type": "code",
   "execution_count": 3,
   "metadata": {},
   "outputs": [
    {
     "name": "stdout",
     "output_type": "stream",
     "text": [
      "(153600000,)\n"
     ]
    },
    {
     "name": "stdout",
     "output_type": "stream",
     "text": [
      "(50000, 32, 32, 3)\n"
     ]
    },
    {
     "name": "stdout",
     "output_type": "stream",
     "text": [
      "[b'airplane', b'automobile', b'bird', b'cat', b'deer', b'dog', b'frog', b'horse', b'ship', b'truck']\n"
     ]
    }
   ],
   "source": [
    "image_height = 32\n",
    "image_width = 32\n",
    "\n",
    "color_channels = 3\n",
    "\n",
    "model_name = \"cifar\"\n",
    "\n",
    "def unpickle(file):\n",
    "    import pickle\n",
    "    with open(file, 'rb') as fo:\n",
    "        dict = pickle.load(fo, encoding='bytes')\n",
    "    return dict\n",
    "\n",
    "cifar_path = './cifar-10-data/'\n",
    "\n",
    "train_data = np.array([])\n",
    "train_labels = np.array([])\n",
    "\n",
    "# Load all the data batches\n",
    "for i in range(1,6):\n",
    "    data_batch = unpickle(cifar_path + 'data_batch_' + str(i))\n",
    "    train_data = np.append(train_data, data_batch[b'data'])\n",
    "    train_labels = np.append(train_labels, data_batch[b'labels'])\n",
    "\n",
    "\n",
    "# Load the eval batch\n",
    "eval_batch = unpickle(cifar_path + 'test_batch')\n",
    "\n",
    "eval_data = eval_batch[b'data']\n",
    "eval_labels = eval_batch[b'labels'] \n",
    "\n",
    "print(train_data.shape)\n",
    "\n",
    "def process_images(data):\n",
    "    # convert to floats\n",
    "    float_data = np.array(data, dtype=float) / 255.0\n",
    "    \n",
    "    reshaped_images = float_data.reshape([-1, color_channels, image_height, image_width])\n",
    "    # reorder indices to match our nn:\n",
    "    reordered_images = reshaped_images.transpose([0,2,3,1])\n",
    "    \n",
    "    return reordered_images\n",
    "\n",
    "reshaped_data = process_images(train_data)\n",
    "\n",
    "print(reshaped_data.shape)\n",
    "\n",
    "reshaped_eval = process_images(eval_data)\n",
    "\n",
    "category_names = unpickle(cifar_path + 'batches.meta')[b'label_names']\n",
    "print(category_names)\n",
    "\n",
    "train_data = []\n",
    "eval_data = []"
   ]
  },
  {
   "cell_type": "code",
   "execution_count": 4,
   "metadata": {},
   "outputs": [],
   "source": [
    "training_steps = 20000\n",
    "batch_size = 100\n",
    "path = \"./\" + model_name + \"-cnn/\"\n",
    "\n",
    "load_checkpoint = False"
   ]
  },
  {
   "cell_type": "code",
   "execution_count": 5,
   "metadata": {},
   "outputs": [
    {
     "name": "stdout",
     "output_type": "stream",
     "text": [
      "<BatchDataset shapes: ((?, 32, 32, 3), (?,)), types: (tf.float64, tf.float64)>\n(?, 32, 32, 3)\n(?, 32, 32, 32)\n(?, 16, 16, 32)\n(?, 16, 16, 64)\n(?, 8, 8, 64)\n(?, 1024)\n(?, 1024)\n(?, 10)\n"
     ]
    },
    {
     "name": "stdout",
     "output_type": "stream",
     "text": [
      "Accuracy at step 1000: 0.308491\nSaving checkpoint\n"
     ]
    },
    {
     "name": "stdout",
     "output_type": "stream",
     "text": [
      "Accuracy at step 2000: 0.372674\nSaving checkpoint\n"
     ]
    },
    {
     "name": "stdout",
     "output_type": "stream",
     "text": [
      "Accuracy at step 3000: 0.41029\nSaving checkpoint\n"
     ]
    },
    {
     "name": "stdout",
     "output_type": "stream",
     "text": [
      "Accuracy at step 4000: 0.438563\nSaving checkpoint\n"
     ]
    },
    {
     "name": "stdout",
     "output_type": "stream",
     "text": [
      "Accuracy at step 5000: 0.461324\nSaving checkpoint\n"
     ]
    },
    {
     "name": "stdout",
     "output_type": "stream",
     "text": [
      "Accuracy at step 6000: 0.480857\nSaving checkpoint\n"
     ]
    },
    {
     "name": "stdout",
     "output_type": "stream",
     "text": [
      "Accuracy at step 7000: 0.498612\nSaving checkpoint\n"
     ]
    },
    {
     "name": "stdout",
     "output_type": "stream",
     "text": [
      "Accuracy at step 8000: 0.514683\nSaving checkpoint\n"
     ]
    },
    {
     "name": "stdout",
     "output_type": "stream",
     "text": [
      "Accuracy at step 9000: 0.529716\nSaving checkpoint\n"
     ]
    },
    {
     "name": "stdout",
     "output_type": "stream",
     "text": [
      "Accuracy at step 10000: 0.543418\nSaving checkpoint\n"
     ]
    },
    {
     "name": "stdout",
     "output_type": "stream",
     "text": [
      "Accuracy at step 11000: 0.556275\nSaving checkpoint\n"
     ]
    },
    {
     "name": "stdout",
     "output_type": "stream",
     "text": [
      "Accuracy at step 12000: 0.56854\nSaving checkpoint\n"
     ]
    },
    {
     "name": "stdout",
     "output_type": "stream",
     "text": [
      "Accuracy at step 13000: 0.580276\nSaving checkpoint\n"
     ]
    },
    {
     "name": "stdout",
     "output_type": "stream",
     "text": [
      "Accuracy at step 14000: 0.591299\nSaving checkpoint\n"
     ]
    },
    {
     "name": "stdout",
     "output_type": "stream",
     "text": [
      "Accuracy at step 15000: 0.601837\nSaving checkpoint\n"
     ]
    },
    {
     "name": "stdout",
     "output_type": "stream",
     "text": [
      "Accuracy at step 16000: 0.612031\nSaving checkpoint\n"
     ]
    },
    {
     "name": "stdout",
     "output_type": "stream",
     "text": [
      "Accuracy at step 17000: 0.621804\nSaving checkpoint\n"
     ]
    },
    {
     "name": "stdout",
     "output_type": "stream",
     "text": [
      "Accuracy at step 18000: 0.631324\nSaving checkpoint\n"
     ]
    },
    {
     "name": "stdout",
     "output_type": "stream",
     "text": [
      "Accuracy at step 19000: 0.640471\nSaving checkpoint\n"
     ]
    },
    {
     "name": "stdout",
     "output_type": "stream",
     "text": [
      "Saving final checkpoint for training session.\n"
     ]
    }
   ],
   "source": [
    "# Training loop\n",
    "tf.reset_default_graph()\n",
    "\n",
    "training_dataset = tf.data.Dataset.from_tensor_slices((reshaped_data, train_labels))\n",
    "    \n",
    "batch_dataset = training_dataset.batch(batch_size)\n",
    "\n",
    "batch_iterator = batch_dataset.make_initializable_iterator()\n",
    "next_element = batch_iterator.get_next()\n",
    "\n",
    "print(batch_dataset)\n",
    "\n",
    "cnn = Conv_Net(image_height,image_width,color_channels,10)\n",
    "\n",
    "# These get pretty huge\n",
    "saver = tf.train.Saver(max_to_keep=2)\n",
    "\n",
    "if not os.path.exists(path):\n",
    "    os.makedirs(path)\n",
    "\n",
    "with tf.Session() as sess:\n",
    "    \n",
    "    if load_checkpoint:\n",
    "        checkpoint = tf.train.get_checkpoint_state(path)\n",
    "        saver.restore(sess, checkpoint.model_checkpoint_path)\n",
    "    else:\n",
    "        sess.run(tf.global_variables_initializer())\n",
    "    \n",
    "    sess.run(tf.local_variables_initializer())\n",
    "    \n",
    "    sess.run(batch_iterator.initializer)\n",
    "    \n",
    "    for i in range(training_steps):\n",
    "        try:\n",
    "            current_batch = sess.run(next_element)\n",
    "        except tf.errors.OutOfRangeError:\n",
    "            sess.run(batch_iterator.initializer)\n",
    "            current_batch = sess.run(next_element)\n",
    "        \n",
    "        batch_inputs = current_batch[0]\n",
    "        batch_labels = current_batch[1]\n",
    "        \n",
    "        sess.run((cnn.train_operation, cnn.accuracy_op), feed_dict={ cnn.input_layer:batch_inputs, cnn.labels:batch_labels})\n",
    "        \n",
    "        if i % 1000 == 0 and i > 0:\n",
    "            current_acc = sess.run(cnn.accuracy, feed_dict={ cnn.input_layer:batch_inputs, cnn.labels:batch_labels})\n",
    "            print(\"Accuracy at step \" + str(i) + \": \" + str(current_acc))\n",
    "            print(\"Saving checkpoint\")\n",
    "            saver.save(sess, path + model_name, i)\n",
    "            \n",
    "    print(\"Saving final checkpoint for training session.\")\n",
    "    saver.save(sess, path + model_name, i)"
   ]
  },
  {
   "cell_type": "code",
   "execution_count": 6,
   "metadata": {},
   "outputs": [
    {
     "name": "stdout",
     "output_type": "stream",
     "text": [
      "INFO:tensorflow:Restoring parameters from ./cifar-cnn/cifar-19999\n"
     ]
    },
    {
     "name": "stdout",
     "output_type": "stream",
     "text": [
      "10000\n10000\n"
     ]
    },
    {
     "name": "stdout",
     "output_type": "stream",
     "text": [
      "0.6728\n"
     ]
    },
    {
     "data": {
      "image/png": "[encoded data removed]",
      "text/plain": [
       "<matplotlib.figure.Figure at 0x2598c8713c8>"
      ]
     },
     "metadata": {},
     "output_type": "display_data"
    }
   ],
   "source": [
    "# Evaluate the network\n",
    "\n",
    "with tf.Session() as sess:\n",
    "    checkpoint = tf.train.get_checkpoint_state(path)\n",
    "    saver.restore(sess,checkpoint.model_checkpoint_path)\n",
    "    \n",
    "    sess.run(tf.local_variables_initializer())\n",
    "    \n",
    "    print(len(reshaped_eval))\n",
    "    print(len(eval_labels))\n",
    "    \n",
    "    #accuracy overall\n",
    "    print(sess.run( cnn.accuracy_op, feed_dict={cnn.input_layer:reshaped_eval, cnn.labels:eval_labels}))\n",
    "    \n",
    "    indexes = np.random.choice(len(reshaped_eval), 10, replace=False)\n",
    "    \n",
    "    rows = 5\n",
    "    cols = 2\n",
    "    \n",
    "    fig, axes = plt.subplots(rows, cols, figsize=(5,5))\n",
    "    fig.patch.set_facecolor('white')\n",
    "    image_count = 0\n",
    "    \n",
    "    for idx in indexes:\n",
    "        image_count += 1\n",
    "        sub = plt.subplot(rows,cols,image_count)\n",
    "        img = reshaped_eval[idx]\n",
    "        if model_name == \"mnist\":\n",
    "            img = img.reshape(28, 28)\n",
    "        plt.imshow(img)\n",
    "        guess = sess.run(cnn.choice, feed_dict={cnn.input_layer:[reshaped_eval[idx]]})\n",
    "        if model_name == \"mnist\":\n",
    "            guess_name = str(guess[0])\n",
    "            actual_name = str(eval_labels[idx])\n",
    "        else:\n",
    "            guess_name = category_names[guess[0]].decode('utf-8')\n",
    "            actual_name = category_names[eval_labels[idx]].decode('utf-8')\n",
    "        sub.set_title(\"G: \" + guess_name + \" A: \" + actual_name)\n",
    "    plt.tight_layout()"
   ]
  },
  {
   "cell_type": "code",
   "execution_count": 169,
   "metadata": {},
   "outputs": [],
   "source": [
    "plt.show()"
   ]
  },
  {
   "cell_type": "code",
   "execution_count": 70,
   "metadata": {},
   "outputs": [],
   "source": [
    "sess.close()"
   ]
  }
 ],
 "metadata": {
  "kernelspec": {
   "display_name": "Python 2",
   "language": "python",
   "name": "python2"
  },
  "language_info": {
   "codemirror_mode": {
    "name": "ipython",
    "version": 2
   },
   "file_extension": ".py",
   "mimetype": "text/x-python",
   "name": "python",
   "nbconvert_exporter": "python",
   "pygments_lexer": "ipython2",
   "version": "2.7.6"
  }
 },
 "nbformat": 4,
 "nbformat_minor": 0
}
